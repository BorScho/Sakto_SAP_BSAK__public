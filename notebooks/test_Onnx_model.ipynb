{
 "cells": [
  {
   "cell_type": "markdown",
   "metadata": {},
   "source": [
    "# Notebook to test an Onnx-Model - in Batch-Mode and Single Record Mode"
   ]
  },
  {
   "cell_type": "markdown",
   "metadata": {},
   "source": [
    "# Imports"
   ]
  },
  {
   "cell_type": "code",
   "execution_count": 1,
   "metadata": {},
   "outputs": [],
   "source": [
    "import joblib\n",
    "import onnxruntime as ort\n",
    "import numpy as np\n",
    "from sklearn.metrics import accuracy_score, recall_score"
   ]
  },
  {
   "cell_type": "markdown",
   "metadata": {},
   "source": [
    "## Load Preprossessed Data & Encoders:"
   ]
  },
  {
   "cell_type": "code",
   "execution_count": 2,
   "metadata": {},
   "outputs": [],
   "source": [
    "# Load data and LabelEncoders for later use:\n",
    "\n",
    "data_folder = \"data_preprocessed/\"\n",
    "file_joblib_dump = 'Data_Sachkonto_stratified_All3.pkl'\n",
    "\n",
    "data = joblib.load(data_folder + file_joblib_dump)\n",
    "X_train = data[\"X_train\"]\n",
    "X_test = data[\"X_test\"]\n",
    "y_train = data[\"y_train\"]\n",
    "y_test = data[\"y_test\"]\n",
    "target_label_encoder = data[\"target_label_encoder\"]\n",
    "column_encoders = data[\"column_encoders\"]"
   ]
  },
  {
   "cell_type": "markdown",
   "metadata": {},
   "source": [
    "# Load Onnx Model"
   ]
  },
  {
   "cell_type": "code",
   "execution_count": 3,
   "metadata": {},
   "outputs": [],
   "source": [
    "import joblib\n",
    "\n",
    "data_folder = \"data_preprocessed/\"\n",
    "file_joblib_dump = 'OnnxParams_Sachkonto_stratified_All3.pkl'\n",
    "\n",
    "onnx_params = joblib.load(data_folder + file_joblib_dump)\n",
    "\n",
    "onnx_model_name = onnx_params[\"onnx_model_name\"]\n",
    "trained_features = onnx_params[\"trained_features\"]"
   ]
  },
  {
   "cell_type": "markdown",
   "metadata": {},
   "source": [
    "## Select Trained Features"
   ]
  },
  {
   "cell_type": "code",
   "execution_count": 4,
   "metadata": {},
   "outputs": [
    {
     "name": "stdout",
     "output_type": "stream",
     "text": [
      "['Buchungskreis', 'Lieferant', 'Steuerkennzeichen']\n"
     ]
    }
   ],
   "source": [
    "print(trained_features)\n",
    "X_train = X_train[trained_features]\n",
    "X_test = X_test[trained_features]"
   ]
  },
  {
   "cell_type": "code",
   "execution_count": null,
   "metadata": {},
   "outputs": [],
   "source": [
    "# Load ONNX model\n",
    "session = ort.InferenceSession(onnx_model_name)\n",
    "\n",
    "# Load test data (assuming X_test is (23499,3) and y_test is (23499,))\n",
    "#X_test = np.load(\"X_test.npy\")  # Replace with actual data loading\n",
    "#y_test = np.load(\"y_test.npy\")  # Replace with actual labels\n",
    "\n",
    "# Ensure input is float32 (ONNX expects float32)\n",
    "X_test = X_test.astype(np.float32)\n",
    "\n",
    "# Get input name from the ONNX model\n",
    "input_name = session.get_inputs()[0].name\n",
    "\n",
    "# Run inference\n",
    "outputs = session.run(None, {input_name: X_test.values})\n",
    "\n",
    "# Extract predicted values\n",
    "y_pred = np.array(outputs[0])  # First output is usually the prediction\n",
    "\n",
    "# If the model is a classifier, get the class with the highest probability\n",
    "if y_pred.ndim > 1 and y_pred.shape[1] > 1:\n",
    "    y_pred = np.argmax(y_pred, axis=1)  # Convert probabilities to class labels\n",
    "\n",
    "# Calculate Accuracy\n",
    "accuracy = accuracy_score(y_test, y_pred)\n",
    "print(f\"Accuracy: {accuracy:.4f}\")\n",
    "\n",
    "# Calculate Recall\n",
    "recall = recall_score(y_test, y_pred, average=\"macro\")  # Use 'micro' or 'weighted' if needed\n",
    "print(f\"Recall: {recall:.4f}\")\n",
    "\n",
    "\"\"\" # Compute Confusion Matrix\n",
    "conf_matrix = confusion_matrix(y_test, y_pred)\n",
    "print(\"Confusion Matrix:\\n\", conf_matrix) \"\"\"\n",
    "# Calculate top k accuracy:\n",
    "from utils_bsak import top_k_accuracy_factory\n",
    "top_k = 3\n",
    "#top_k_preds = np.argsort(outputs[1], axis=1, )[:, ::-1][:, :top_k] # sort probabilites asscending, take top k\n",
    "top_k_accuracy = top_k_accuracy_factory(top_k=top_k)\n",
    "print(f\"top_{top_k}_accuracy: {top_k_accuracy(y_true=y_test, y_pred_prob=outputs[1])}\")"
   ]
  },
  {
   "cell_type": "markdown",
   "metadata": {},
   "source": [
    "## Plot Straight Confusion Matrix"
   ]
  },
  {
   "cell_type": "code",
   "execution_count": null,
   "metadata": {},
   "outputs": [],
   "source": [
    "from utils_bsak import plot_confusion_matrix\n",
    "\n",
    "plot_confusion_matrix(y_test, y_pred, labels=target_label_encoder.classes_, cmap=\"Blues\")"
   ]
  },
  {
   "cell_type": "code",
   "execution_count": null,
   "metadata": {},
   "outputs": [],
   "source": [
    "from utils_bsak import plot_top_k_confusion_matrix\n",
    "\n",
    "\n",
    "plot_top_k_confusion_matrix(y_test=y_test, y_pred_prob=outputs[1], labels=target_label_encoder.classes_, top_k=top_k, cmap=\"Blues\", show_off_top_k_info=True)"
   ]
  }
 ],
 "metadata": {
  "kernelspec": {
   "display_name": "condaPytorchEnv",
   "language": "python",
   "name": "python3"
  },
  "language_info": {
   "codemirror_mode": {
    "name": "ipython",
    "version": 3
   },
   "file_extension": ".py",
   "mimetype": "text/x-python",
   "name": "python",
   "nbconvert_exporter": "python",
   "pygments_lexer": "ipython3",
   "version": "3.10.13"
  }
 },
 "nbformat": 4,
 "nbformat_minor": 2
}
