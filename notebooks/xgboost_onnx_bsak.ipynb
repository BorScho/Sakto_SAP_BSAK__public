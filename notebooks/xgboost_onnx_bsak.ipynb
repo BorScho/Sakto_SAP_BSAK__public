{
 "cells": [
  {
   "cell_type": "markdown",
   "metadata": {},
   "source": [
    "# Prediction of \"Sachkonto\" - from a few Columns based on Trainingsdata from SAP BSAK"
   ]
  },
  {
   "cell_type": "markdown",
   "metadata": {},
   "source": [
    "### Possible improvements\n",
    "7. Unbalanced data-set: find some strategy to counter this\n",
    "8. use CATBOOST instead of XGBoost - just for comparison\n",
    "9. Optimization of model with \"AutoML\" / (Bayesian) Parameter-Search of some sort (possibly better than grid-search )\n",
    "10. Consider to use Scikit columnTransformer and pipeline instead of doing everything manually: this would make the entire pipeline testable.\n",
    "11. Split data preparation into separate notebook\n"
   ]
  },
  {
   "cell_type": "markdown",
   "metadata": {},
   "source": [
    "# Imports"
   ]
  },
  {
   "cell_type": "code",
   "execution_count": 1,
   "metadata": {},
   "outputs": [],
   "source": [
    "import pandas as pd\n",
    "import numpy as np\n",
    "from utils_bsak import printSamplesFromSaktos\n",
    "from utils_bsak import is_date_column, is_decimal_column, convert_column_decimal2float\n",
    "\n",
    "from sklearn.preprocessing import LabelEncoder\n",
    "from sklearn.model_selection import train_test_split\n",
    "from utils_bsak import target_min_value_records\n",
    "\n",
    "import joblib\n",
    "\n",
    "import xgboost as xgb\n"
   ]
  },
  {
   "cell_type": "markdown",
   "metadata": {},
   "source": [
    "# Load Preprosessed Data & Encoders"
   ]
  },
  {
   "cell_type": "markdown",
   "metadata": {},
   "source": [
    "#### Files for Reading Preprocessed Data and Writting Onnx-Model"
   ]
  },
  {
   "cell_type": "code",
   "execution_count": 2,
   "metadata": {},
   "outputs": [],
   "source": [
    "# filenames for ONNX model\n",
    "\n",
    "onnx_model_name = \"Sachkonto_stratified\" # name of the exportet ONNX-model that is going to be generated\n",
    "path_model= \"models/model_\" + onnx_model_name + \".onnx\"\n",
    "\n",
    "# files with preprocessed data\n",
    "\n",
    "folder_preprocessed_data = \"../data_preprocessed/\"\n",
    "file_joblib_data = 'Data_' + onnx_model_name + '.pkl'\n",
    "path_joblib_data = folder_preprocessed_data + file_joblib_data # path for dumping preprocessed data\n",
    "\n",
    "\n",
    "\n",
    "file_joblib_onnx_params = 'OnnxParams_' + onnx_model_name + '.pkl'\n",
    "path_joblib_onnx_params = folder_preprocessed_data + file_joblib_onnx_params"
   ]
  },
  {
   "cell_type": "markdown",
   "metadata": {},
   "source": [
    "### Load Data"
   ]
  },
  {
   "cell_type": "code",
   "execution_count": null,
   "metadata": {},
   "outputs": [],
   "source": [
    "# Code-Snippet: Load Preprosessed Data & Encoders\n",
    "data = joblib.load(path_joblib_data)\n",
    "\n",
    "X_train = data[\"X_train\"]\n",
    "X_test = data[\"X_test\"]\n",
    "y_train = data[\"y_train\"]\n",
    "y_test = data[\"y_test\"]\n",
    "column_encoders = data[\"column_encoders\"]\n",
    "target_dict = data[\"target_dict\"]\n",
    "Steuerkennzeichen_dict = data[\"Steuerkennzeichen_dict\"]"
   ]
  },
  {
   "cell_type": "markdown",
   "metadata": {},
   "source": [
    "## Use Boruta to find the most relevant features in the dataset"
   ]
  },
  {
   "cell_type": "code",
   "execution_count": 4,
   "metadata": {},
   "outputs": [],
   "source": [
    "#Use Boruta after the split to avoid data leakage\n",
    "\n",
    "# for notebook control:\n",
    "apply_Boruta = False\n",
    "#apply_Boruta = True\n",
    "\n",
    "if(apply_Boruta):\n",
    "\n",
    "    from boruta import BorutaPy\n",
    "    from sklearn.ensemble import RandomForestClassifier\n",
    "\n",
    "    # Define the Random Forest model\n",
    "    rf_model = xgb.XGBClassifier(n_jobs=-1, verbosity=0)\n",
    "\n",
    "    boruta_selector = BorutaPy(rf_model, n_estimators='auto', random_state=42)\n",
    "    boruta_selector.fit(X_train.values, y_train)\n",
    "\n",
    "    # Check the results\n",
    "    selected_features = X_train.columns[boruta_selector.support_].tolist()\n",
    "    print(\"--------------------------------\")\n",
    "    print(\"Selected Features:\", selected_features)\n",
    "\n",
    "    # Optional: Features that were rejected\n",
    "    rejected_features = X_train.columns[~boruta_selector.support_].tolist()\n",
    "    print(\"Rejected Features:\", rejected_features)\n",
    "    print(\"--------------------------------\")"
   ]
  },
  {
   "cell_type": "markdown",
   "metadata": {},
   "source": [
    "### All datasets combined Boruta selected_features (runtime: 21m 40s):\n",
    "Selected Features: ['Buchungskreis', 'Lieferant', 'Position', 'WÃ¤hrung', 'Belegart', 'Buchungsperiode', 'Steuerkennzeichen', 'Betrag', 'Funktionale WÃ¤hrung', 'Zahlungsbedingung', 'Tage 1', 'Skontoprozentsatz 1', 'Skontobasis', 'Skontobetrag', 'Skontobetrag.1', 'Zahlweg', 'Zahlungssperre', 'Hausbank', 'Partnerbanktyp', 'Steuerkennzeichen.1', 'Steuerkennzeichen.2', 'HW-2-Betrag', 'Skontobetrag HW2', 'ReferenzschlÃ¼ssel 2', 'WÃ¤hrung Hauptbuch', 'Betrag Hauptbuch', 'Profitcenter', 'Position im Sender System', 'Währung', 'Funktionale Währung', 'Währung Hauptbuch']"
   ]
  },
  {
   "cell_type": "markdown",
   "metadata": {},
   "source": [
    "# Train XGBoost Model"
   ]
  },
  {
   "cell_type": "markdown",
   "metadata": {},
   "source": [
    "## Define a factory-function for the model"
   ]
  },
  {
   "cell_type": "code",
   "execution_count": 5,
   "metadata": {},
   "outputs": [],
   "source": [
    "# define a factory-function for the model - to always work with the same type of model (... could be implemented as singleton...)\n",
    "def create_Model():\n",
    "    return xgb.XGBClassifier(use_label_encoder=False, eval_metric='logloss')"
   ]
  },
  {
   "cell_type": "markdown",
   "metadata": {},
   "source": [
    "## Define Selected Features"
   ]
  },
  {
   "cell_type": "markdown",
   "metadata": {},
   "source": [
    "Using the results from the Boruta-analysis - define different sets of columns to train on. <br>\n",
    "Since this is a demonstrator I tried to use different features to prove flexibility. <br>\n",
    "Which columns to use is dependent on the front-end application in which the model is going to be used. <br>"
   ]
  },
  {
   "cell_type": "code",
   "execution_count": null,
   "metadata": {},
   "outputs": [],
   "source": [
    "\n",
    "from sklearn.model_selection import train_test_split\n",
    "\n",
    "# Using the results from the Boruta-analysis - define different sets of columns to train on.\n",
    "# Since this is a demonstrator I tried to use different features to prove flexibility.\n",
    "# Which columns to use is dependent on the front-end application in which the model is going to be used.\n",
    "\n",
    "# all combined:\n",
    "#all_combined =  ['Buchungskreis', 'Lieferant', 'Position'] # Accuracy (in %): 96.62 +/- 2.62 --- \"Position\" is weird - how can this be relevant?!\n",
    "all_combined =  ['Buchungskreis', 'Lieferant', 'Steuerkennzeichen']\n"
   ]
  },
  {
   "cell_type": "markdown",
   "metadata": {},
   "source": [
    "## Train on Selected Features"
   ]
  },
  {
   "cell_type": "code",
   "execution_count": null,
   "metadata": {},
   "outputs": [],
   "source": [
    "# chose one of the feature selections:\n",
    "final_seleced_features =  all_combined\n",
    "\n",
    "X_train = X_train[final_seleced_features]\n",
    "X_test = X_test[final_seleced_features]\n",
    "\n",
    "# automatic feature selection from Boruta selected_features:\n",
    "\"\"\" if selected_features and len(selected_features) > 3:\n",
    "    X_train = X_train[selected_features[:3]]\n",
    "    X_test = X_test[selected_features[:3]]\n",
    "    print(\"--------------------------------\")\n",
    "    print(f\"selected_features[:3]: {selected_features[:3]}\")\n",
    "    print(\"--------------------------------\")\n",
    "else:\n",
    "    X_train = X_train[selected_features]\n",
    "    X_test = X_test[selected_features]\n",
    "    print(\"--------------------------------\")\n",
    "    print(f\"selected_features: {selected_features}\") \n",
    "    print(\"--------------------------------\") \"\"\"\n",
    "\n",
    "print(\"--------------------------------\")\n",
    "print(f\"Features the model is trained on: {final_seleced_features}\")\n",
    "print(\"--------------------------------\")\n",
    "print(f\"X_train.shape: {X_train.shape}\")\n",
    "print(f\"X_test.shape : {X_test.shape}\")\n",
    "print(\"--------------------------------\")\n",
    "print(f\"X_train.head(3):{X_train.head(3)}\")\n",
    "print(f\"X_test.head(3) : {X_test.head(3)}\")\n",
    "print(\"--------------------------------\")\n",
    "\n",
    "model = create_Model()\n",
    "model.fit(X_train, y_train)\n"
   ]
  },
  {
   "cell_type": "markdown",
   "metadata": {},
   "source": [
    "# Model Quality Assessment"
   ]
  },
  {
   "cell_type": "markdown",
   "metadata": {},
   "source": [
    "## Simple Run Accuracy"
   ]
  },
  {
   "cell_type": "code",
   "execution_count": null,
   "metadata": {},
   "outputs": [],
   "source": [
    "# make predictions for test data\n",
    "print(\"--------------------------------\")\n",
    "print(f\"We have {y_test.shape[0]} rows of test-data.\")\n",
    "print(\"--------------------------------\")\n",
    "\n",
    "y_pred = model.predict(X_test)\n",
    "\"\"\" \n",
    "print(\"--------------------------------\")\n",
    "print(y_pred[:10])\n",
    "print(\"--------------------------------\")\n",
    "#predictions = [round(value) for value in y_pred] \"\"\"\n",
    "\n",
    "# evaluate predictions\n",
    "from sklearn.metrics import accuracy_score\n",
    "\n",
    "accuracy = accuracy_score(y_test, y_pred)\n",
    "#accuracy = accuracy_score(y_test, predictions)\n",
    "print(\"--------------------------------\")\n",
    "print(\"Simple One-Run Accuracy: %.2f%%\" % (accuracy * 100.0))\n",
    "print(\"--------------------------------\")"
   ]
  },
  {
   "cell_type": "markdown",
   "metadata": {},
   "source": [
    "## Check Scikits classification_report:"
   ]
  },
  {
   "cell_type": "code",
   "execution_count": null,
   "metadata": {},
   "outputs": [],
   "source": [
    "from sklearn.metrics import classification_report\n",
    "\n",
    "# Evaluate the model with precision, recall, and F1-score\n",
    "print(\"\\nClassification Report:\\n\", classification_report(y_test, y_pred, target_names=target_label_encoder.classes_.astype(str)))\n",
    "print(\"--------------------------------\")"
   ]
  },
  {
   "cell_type": "markdown",
   "metadata": {},
   "source": [
    "## Accuracy with Cross-Validation"
   ]
  },
  {
   "cell_type": "code",
   "execution_count": null,
   "metadata": {},
   "outputs": [],
   "source": [
    "import warnings\n",
    "\n",
    "warnings.simplefilter('ignore', UserWarning)\n",
    "\n",
    "from sklearn.model_selection import cross_val_score, KFold\n",
    "\n",
    "X = df.drop(target, axis=1)\n",
    "y_trans = target_label_encoder.fit_transform(y).astype(int)\n",
    "print(\"----------- Check encoding ---------------------\")\n",
    "print(y_trans[:10])\n",
    "print(\"--------------------------------\")\n",
    "\n",
    "results = cross_val_score(model, X, y_trans, cv=5)\n",
    "print(\"--------------------------------\")\n",
    "print(f\"Accuracy (in %): {results.mean() * 100:.2f} +/- {results.std() * 100:.2f}\")\n",
    "print(\"--------------------------------\")"
   ]
  },
  {
   "cell_type": "markdown",
   "metadata": {},
   "source": [
    "## Confusion Matrices"
   ]
  },
  {
   "cell_type": "markdown",
   "metadata": {},
   "source": [
    "### Straight Confusion Matrix"
   ]
  },
  {
   "cell_type": "code",
   "execution_count": null,
   "metadata": {},
   "outputs": [],
   "source": [
    "from utils_bsak import plot_confusion_matrix\n",
    "\n",
    "y_pred = model.predict(X_test)\n",
    "\n",
    "plot_confusion_matrix(y_test=y_test, y_pred=y_pred, labels=target_label_encoder.classes_)"
   ]
  },
  {
   "cell_type": "markdown",
   "metadata": {},
   "source": [
    "### Top-k Confusion Matrix"
   ]
  },
  {
   "cell_type": "code",
   "execution_count": null,
   "metadata": {},
   "outputs": [],
   "source": [
    "from utils_bsak import plot_top_k_confusion_matrix\n",
    "\n",
    "k = 3\n",
    "y_pred_prob = model.predict_proba(X_test)\n",
    "plot_top_k_confusion_matrix(y_test=y_test, y_pred_prob=y_pred_prob, labels=target_label_encoder.classes_, top_k=k, show_off_top_k_info=False)"
   ]
  },
  {
   "cell_type": "markdown",
   "metadata": {},
   "source": [
    "# Export/ Convert Model to ONNX"
   ]
  },
  {
   "cell_type": "markdown",
   "metadata": {},
   "source": [
    "## Model Conversion and Saving"
   ]
  },
  {
   "cell_type": "code",
   "execution_count": null,
   "metadata": {},
   "outputs": [],
   "source": [
    "import xgboost as xgb\n",
    "from onnxmltools import convert_xgboost\n",
    "from onnxmltools.convert.common.data_types import FloatTensorType\n",
    "\n",
    "# rename the columns of X to make Onnx conversion possible:\n",
    "X_old_columns = { f\"f{i}\" : col for i, col in enumerate(X_train.columns)}\n",
    "X_train.columns = [f\"f{i}\" for i in range(X_train.shape[1])]\n",
    "\n",
    "# DMatrix (i.e. dense-matrix) erstellen und enable_categorical setzen\n",
    "dtrain = xgb.DMatrix(data=X_train, label=y_train, enable_categorical=True)\n",
    "dtest = xgb.DMatrix(data=X_test, label=y_test, enable_categorical=True)\n",
    "\n",
    "# Convert the model to ONNX format\n",
    "initial_type = [('float_input', FloatTensorType([None, X_train.shape[1]]))]\n",
    "onnx_model = convert_xgboost(model, initial_types=initial_type)\n",
    "\n",
    "# Save the ONNX model to a file in D:\\1000_DataScience_MachineLearning\\1000_ML_Projects\\1000_Github_ML_2\\projects_planned\\Psinova_Examples\\saktoBsik_private :\n",
    "\n",
    "with open(path_model, \"wb\") as f:\n",
    "    f.write(onnx_model.SerializeToString())\n",
    "\n",
    "print(\"------------------------------------------------------------------------\")\n",
    "print(f\"model name: {onnx_model_name}\")\n",
    "print(\"------------------------------------------------------------------------\")\n",
    "\n"
   ]
  },
  {
   "cell_type": "markdown",
   "metadata": {},
   "source": [
    "## Write ONNX-Model Parameter"
   ]
  },
  {
   "cell_type": "code",
   "execution_count": null,
   "metadata": {},
   "outputs": [
    {
     "data": {
      "text/plain": [
       "['data_preprocessed/OnnxParams_Sachkonto_stratified_All3.pkl']"
      ]
     },
     "execution_count": 20,
     "metadata": {},
     "output_type": "execute_result"
    }
   ],
   "source": [
    "import joblib, onnxmltools, xgboost\n",
    "\n",
    "onnx_parameters = {\n",
    "    \"onnx_model_name\" : onnx_model_name,\n",
    "    \"trained_features\" : final_seleced_features,\n",
    "    \"xgboost_version\" : xgboost.__version__,\n",
    "    \"onnxmltools_version\" : onnxmltools.__version__,\n",
    "}\n",
    "\n",
    "joblib.dump(onnx_parameters, path_joblib_onnx_params)"
   ]
  },
  {
   "cell_type": "code",
   "execution_count": null,
   "metadata": {},
   "outputs": [
    {
     "name": "stdout",
     "output_type": "stream",
     "text": [
      "2.1.1\n"
     ]
    }
   ],
   "source": [
    "import xgboost\n",
    "print(xgboost.__version__)\n",
    "\n",
    "#Answer:\n",
    "# 1.4.2"
   ]
  },
  {
   "cell_type": "code",
   "execution_count": null,
   "metadata": {},
   "outputs": [
    {
     "name": "stdout",
     "output_type": "stream",
     "text": [
      "1.13.0\n"
     ]
    }
   ],
   "source": [
    "import onnxmltools\n",
    "print(onnxmltools.__version__)\n",
    "\n",
    "# Answer:\n",
    "# 1.7.0"
   ]
  },
  {
   "cell_type": "markdown",
   "metadata": {},
   "source": [
    "Working combination of versions of xgboost and onnxmltools:\n",
    "\n",
    "xgboost : 1.4.2 <br>\n",
    "onnxmltools : 1.7.0"
   ]
  },
  {
   "cell_type": "markdown",
   "metadata": {},
   "source": [
    "# TO DO : \n",
    "+ explain Classification Report\n",
    "+ deal with imbalance"
   ]
  },
  {
   "cell_type": "markdown",
   "metadata": {},
   "source": [
    "#### Note: Strategies to Address Imbalance \n",
    "\n",
    "+ Cost-Sensitive Learning: Assign higher misclassification costs to the minority class, encouraging the model to consider it more seriously.\n",
    "+ Alternative Splitting Criteria: Use metrics like Hellinger distance (what is this?) instead of traditional ones like information gain, as it better handles skewed distributions (why? How?).\n",
    "+ Sampling Techniques: Balance the dataset by oversampling the minority class or undersampling the majority class, or by using wrapper frameworks that combine sampling with the splitting metric.\n",
    "+ Adjusted Evaluation Metrics: Accuracy alone is misleading in imbalanced settings. Instead, prioritize metrics like precision, recall, and F1-score to assess the model’s performance on the minority class more accurately."
   ]
  }
 ],
 "metadata": {
  "kernelspec": {
   "display_name": "CondaSapBSAKEnv",
   "language": "python",
   "name": "python3"
  },
  "language_info": {
   "codemirror_mode": {
    "name": "ipython",
    "version": 3
   },
   "file_extension": ".py",
   "mimetype": "text/x-python",
   "name": "python",
   "nbconvert_exporter": "python",
   "pygments_lexer": "ipython3",
   "version": "3.8.20"
  }
 },
 "nbformat": 4,
 "nbformat_minor": 2
}
