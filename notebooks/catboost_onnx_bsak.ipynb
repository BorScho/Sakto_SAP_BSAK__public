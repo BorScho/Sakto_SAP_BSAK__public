{
 "cells": [
  {
   "cell_type": "markdown",
   "metadata": {},
   "source": [
    "# Prediction of \"Sachkonto\" - Trainingsdata from SAP BSAK"
   ]
  },
  {
   "cell_type": "markdown",
   "metadata": {},
   "source": [
    "Environment: \"catboostEnv\", see README.md"
   ]
  },
  {
   "cell_type": "markdown",
   "metadata": {},
   "source": [
    "### Possible improvements\n",
    "7. Unbalanced data-set: find some strategy to counter this\n",
    "8. use CATBOOST instead of XGBoost - just for comparison\n",
    "9. Optimization of model with \"AutoML\" / (Bayesian) Parameter-Search of some sort (possibly better than grid-search )\n",
    "10. Consider to use Scikit columnTransformer and pipeline instead of doing everything manually: this would make the entire pipeline testable.\n",
    "11. Split data preparation into separate notebook\n"
   ]
  },
  {
   "cell_type": "markdown",
   "metadata": {},
   "source": [
    "# Imports"
   ]
  },
  {
   "cell_type": "code",
   "execution_count": 1,
   "metadata": {},
   "outputs": [],
   "source": [
    "import pandas as pd\n",
    "import numpy as np\n",
    "from utils_bsak import printSamplesFromSaktos\n",
    "from utils_bsak import is_date_column, is_decimal_column, convert_column_decimal2float, listMostlyNanColumns, listMostlyNullColumns\n",
    "\n",
    "from sklearn.preprocessing import LabelEncoder\n",
    "from sklearn.model_selection import train_test_split\n",
    "from utils_bsak import target_min_value_records\n",
    "\n",
    "import joblib"
   ]
  },
  {
   "cell_type": "markdown",
   "metadata": {},
   "source": [
    "# Load Data"
   ]
  },
  {
   "cell_type": "code",
   "execution_count": null,
   "metadata": {},
   "outputs": [],
   "source": [
    "path_data_folder = \"../data_raw\"\n",
    "\n",
    "path_file_csv1 = r\"\\Export_bsak_0124-prctr.csv\".replace(\"\\\\\", \"/\")\n",
    "path_file_csv2 = r\"\\Export_bsak_0224-prctr.csv\".replace(\"\\\\\", \"/\")\n",
    "path_file_csv3 = r\"\\export_bsak_010123-311223-SaktoExclude.csv\".replace(\"\\\\\", \"/\")\n",
    "\n",
    "path_files_csv = [path_file_csv1, path_file_csv2, path_file_csv3]\n",
    "\n",
    "df = pd.DataFrame()\n",
    "for path_file in path_files_csv:\n",
    "    path_data = path_data_folder + path_file\n",
    "    df_path = pd.read_csv(path_data, sep=';', encoding='latin1')\n",
    "    df = pd.concat([df, df_path], ignore_index=True)\n",
    "\n",
    "# Erste Zeilen anzeigen, um sicherzustellen, dass die Daten korrekt geladen wurden\n",
    "print(df.head(2))\n"
   ]
  },
  {
   "cell_type": "markdown",
   "metadata": {},
   "source": [
    "## Make Catboost Dataset"
   ]
  },
  {
   "cell_type": "code",
   "execution_count": 3,
   "metadata": {},
   "outputs": [],
   "source": [
    "target = 'Sachkonto'\n",
    "X = df.drop(columns=[target])\n",
    "y = df[target]"
   ]
  },
  {
   "cell_type": "code",
   "execution_count": null,
   "metadata": {},
   "outputs": [],
   "source": [
    "# no datetime-columns:\n",
    "df.dtypes.unique()"
   ]
  },
  {
   "cell_type": "code",
   "execution_count": null,
   "metadata": {},
   "outputs": [],
   "source": [
    "target = 'Sachkonto'\n",
    "proceed = target in df.columns\n",
    "#proceed = False\n",
    "\n",
    "if proceed:\n",
    "    # drop empty, i.e. nan-only rows:\n",
    "    df = df.dropna(axis=0, how='all')\n",
    "\n",
    "    # # drop empty, i.e. nan-only columns:\n",
    "    # df = df.dropna(axis=1, how='all')\n",
    "\n",
    "    # drop all columns with more than 95% null values:\n",
    "    df=df.drop(columns=listMostlyNullColumns(df, fraction = 0.95))\n",
    "\n",
    "    # drop all columns with more than 95% nan values:\n",
    "    df=df.drop(columns=listMostlyNanColumns(df, fraction=0.95))\n",
    "\n",
    "    # drop duplicate rows:\n",
    "    df = df.drop_duplicates()\n",
    "\n",
    "    # drop rows with target being nan:\n",
    "    df = df.dropna(subset=[target], axis=0)\n",
    "\n",
    "    # keep only rows with target not being empty string:\n",
    "    df = df[df[target] != \"\"]\n",
    "\n",
    "    # keep only columns with non-constant value:\n",
    "    df = df.loc[:, df.nunique() > 1]\n",
    "\n",
    "    # remove columns containing dates - no time-series analysis components in this notebook:\n",
    "    # define a function to identify date columns:\n",
    "    import re\n",
    "\n",
    "    date_cols = [col for col in df.columns if is_date_column(df[col])]\n",
    "    df = df.drop(columns=date_cols)\n",
    "\n",
    "    # Identify decimal columns:\n",
    "    decimal_cols = [col for col in df.columns if is_decimal_column(df[col]) and df[col].dtype != 'int64']\n",
    "\n",
    "    # Convert decimal-colums to floats:\n",
    "    for col in decimal_cols:\n",
    "        df[col] = convert_column_decimal2float(df[col])\n",
    "\n",
    "    # Label-encode all columns of type \"object\":\n",
    "    from sklearn.preprocessing import LabelEncoder\n",
    "\n",
    "    \"\"\" columns_to_encode = df.dtypes[df.dtypes == \"object\"].index.to_list()\n",
    "    column_encoders = {}\n",
    "    label_encoder = LabelEncoder()\n",
    "\n",
    "    for col in columns_to_encode:\n",
    "        label_encoder = LabelEncoder()\n",
    "        df[col] = label_encoder.fit_transform(df[col].astype(str))\n",
    "        # save encoding for each column\n",
    "        column_encoders[col] = label_encoder \"\"\"\n",
    "\n",
    "\n",
    "    # drop columns that contain only identifiers (that we do not want to analyze further here):\n",
    "    identifier_columns = [\"Referenz\", \"Ausgleichsbeleg\", \"Zuordnung\", \"Belegnummer\", \"Auftrag\", \"Einkaufsbeleg\", \"Rechnungsbezug\"]\n",
    "    \n",
    "    for id_col in identifier_columns:\n",
    "        if id_col in df.columns:\n",
    "            df = df.drop(id_col, axis='columns')\n",
    "   \n",
    "    # finally drop columns that contain data that we can not / do not want to analyze - drop this columns:\n",
    "    unwanted_columns = [\"Text\", \"Zuordnung\", \"Hauptbuchkonto\"]\n",
    "    nan_columns = list(df.columns[df.isna().sum() >0].values)\n",
    "    unwanted_columns.extend(nan_columns)\n",
    "    for u_col in unwanted_columns:\n",
    "        if u_col in df.columns:\n",
    "            df.drop(columns=[u_col], inplace=True)\n",
    "\n",
    "print(\"Done!\")\n"
   ]
  },
  {
   "cell_type": "code",
   "execution_count": null,
   "metadata": {},
   "outputs": [],
   "source": [
    "df.shape"
   ]
  },
  {
   "cell_type": "code",
   "execution_count": null,
   "metadata": {},
   "outputs": [],
   "source": [
    "df.isnull().sum().sum()"
   ]
  },
  {
   "cell_type": "code",
   "execution_count": null,
   "metadata": {},
   "outputs": [],
   "source": [
    "df.dtypes.unique()"
   ]
  },
  {
   "cell_type": "code",
   "execution_count": null,
   "metadata": {},
   "outputs": [],
   "source": [
    "df.select_dtypes(['O'])"
   ]
  },
  {
   "cell_type": "markdown",
   "metadata": {},
   "source": [
    "## Stratified Train-Test Split:"
   ]
  },
  {
   "cell_type": "code",
   "execution_count": null,
   "metadata": {},
   "outputs": [],
   "source": [
    "# stratified split of data\n",
    "\n",
    "target = 'Sachkonto'\n",
    "\n",
    "# for stratification, all target classes have to have more than 1 record - we choose 4 as minimum here:\n",
    "stratifiable_target_values = target_min_value_records(dataframe=df, target_column=target, min_value_records=4).astype(int)\n",
    "\n",
    "print(\"--------------------------------\")\n",
    "print(f\"df.shape with all targets: {df.shape}\")\n",
    "df = df[df[target].isin(stratifiable_target_values)]\n",
    "print(f\"df.shape with stratifiable targets: {df.shape}\")\n",
    "print(\"--------------------------------\")\n",
    "\n",
    "# prepare target encoding:\n",
    "target_label_encoder = LabelEncoder()\n",
    "y = df[target]\n",
    "target_label_encoder.fit(y)\n",
    "\n",
    "df_train, df_test = train_test_split(df, test_size=0.2, random_state=42, stratify=y)\n",
    "\n",
    "print(\"--------------------------------\")\n",
    "print(f\"df_train.shape : {df_train.shape}\")\n",
    "print(f\"df_test.shape : {df_test.shape}\")\n",
    "print(\"--------------------------------\")\n",
    "\n",
    "# split target from data:\n",
    "X_train = df_train.drop(target, axis=1)\n",
    "X_test = df_test.drop(target, axis=1)\n",
    "y_train = target_label_encoder.transform(df_train[target].values)\n",
    "y_test = target_label_encoder.transform(df_test[target].values)\n",
    "\n",
    "print(\"--------------------------------\")\n",
    "print(\"y_train unique values:\")\n",
    "print(np.sort(np.unique(y_train)))\n",
    "print(\"y_test unique values:\")\n",
    "print(np.sort(np.unique(y_test)))\n",
    "print(\"--------------------------------\")\n"
   ]
  },
  {
   "cell_type": "markdown",
   "metadata": {},
   "source": [
    "## Train Catboost Model"
   ]
  },
  {
   "cell_type": "code",
   "execution_count": null,
   "metadata": {},
   "outputs": [],
   "source": [
    "from catboost import CatBoostClassifier, Pool\n",
    "\n",
    "\n",
    "# Pool erstellen (für mehr Kontrolle)\n",
    "train_pool = Pool(data=X_train, label=y_train, cat_features=[\"Belegart\", \"Soll/Haben-Kennz.\", \"Vorgangsart GL\", \"Referenzvorgang\"])\n",
    "\n",
    "model = CatBoostClassifier(\n",
    "    iterations=1000,\n",
    "    learning_rate=0.05,\n",
    "    depth=6,\n",
    "    loss_function='Logloss',\n",
    "    eval_metric='AUC',\n",
    "    verbose=100,\n",
    "    early_stopping_rounds=50\n",
    ")\n",
    "\n",
    "model.fit(train_pool)"
   ]
  },
  {
   "cell_type": "code",
   "execution_count": null,
   "metadata": {},
   "outputs": [],
   "source": [
    "from catboost import CatBoostClassifier, Pool\n",
    "\n",
    "# Beispiel: welche Spalten sind kategorisch?\n",
    "cat_features = df.select_dtypes(['object']).columns.tolist()\n",
    "\n",
    "# Optional: Datumsspalten verarbeiten (wenn du nicht CatBoost automatisch arbeiten lassen willst)\n",
    "df['transaction_date'] = pd.to_datetime(df['transaction_date'])\n",
    "df['year'] = df['transaction_date'].dt.year\n",
    "df['month'] = df['transaction_date'].dt.month\n",
    "df['weekday'] = df['transaction_date'].dt.weekday\n",
    "\n",
    "# Target und Features\n",
    "X = df.drop(columns=['target'])\n",
    "y = df['target']\n",
    "\n",
    "# Pool erstellen (für mehr Kontrolle)\n",
    "train_pool = Pool(data=X, label=y, cat_features=cat_features)"
   ]
  },
  {
   "cell_type": "markdown",
   "metadata": {},
   "source": [
    "## Use Boruta to find the most relevant features in the dataset"
   ]
  },
  {
   "cell_type": "code",
   "execution_count": 15,
   "metadata": {},
   "outputs": [],
   "source": [
    "#Use Boruta after the split to avoid data leakage\n",
    "\n",
    "# for notebook control:\n",
    "apply_Boruta = False\n",
    "#apply_Boruta = True\n",
    "\n",
    "if(apply_Boruta):\n",
    "\n",
    "    from boruta import BorutaPy\n",
    "    from sklearn.ensemble import RandomForestClassifier\n",
    "\n",
    "    # Define the Random Forest model\n",
    "    rf_model = xgb.XGBClassifier(n_jobs=-1, verbosity=0)\n",
    "\n",
    "    boruta_selector = BorutaPy(rf_model, n_estimators='auto', random_state=42)\n",
    "    boruta_selector.fit(X_train.values, y_train)\n",
    "\n",
    "    # Check the results\n",
    "    selected_features = X_train.columns[boruta_selector.support_].tolist()\n",
    "    print(\"--------------------------------\")\n",
    "    print(\"Selected Features:\", selected_features)\n",
    "\n",
    "    # Optional: Features that were rejected\n",
    "    rejected_features = X_train.columns[~boruta_selector.support_].tolist()\n",
    "    print(\"Rejected Features:\", rejected_features)\n",
    "    print(\"--------------------------------\")"
   ]
  },
  {
   "cell_type": "markdown",
   "metadata": {},
   "source": [
    "### All datasets combined Boruta selected_features (runtime: 21m 40s):\n",
    "Selected Features: ['Buchungskreis', 'Lieferant', 'Position', 'WÃ¤hrung', 'Belegart', 'Buchungsperiode', 'Steuerkennzeichen', 'Betrag', 'Funktionale WÃ¤hrung', 'Zahlungsbedingung', 'Tage 1', 'Skontoprozentsatz 1', 'Skontobasis', 'Skontobetrag', 'Skontobetrag.1', 'Zahlweg', 'Zahlungssperre', 'Hausbank', 'Partnerbanktyp', 'Steuerkennzeichen.1', 'Steuerkennzeichen.2', 'HW-2-Betrag', 'Skontobetrag HW2', 'ReferenzschlÃ¼ssel 2', 'WÃ¤hrung Hauptbuch', 'Betrag Hauptbuch', 'Profitcenter', 'Position im Sender System', 'Währung', 'Funktionale Währung', 'Währung Hauptbuch']"
   ]
  },
  {
   "cell_type": "markdown",
   "metadata": {},
   "source": [
    "# Train XGBoost Model"
   ]
  },
  {
   "cell_type": "markdown",
   "metadata": {},
   "source": [
    "## Define a factory-function for the model"
   ]
  },
  {
   "cell_type": "code",
   "execution_count": 16,
   "metadata": {},
   "outputs": [],
   "source": [
    "# define a factory-function for the model - to always work with the same type of model (... could be implemented as singleton...)\n",
    "def create_Model():\n",
    "    return xgb.XGBClassifier(use_label_encoder=False, eval_metric='logloss')"
   ]
  },
  {
   "cell_type": "markdown",
   "metadata": {},
   "source": [
    "## Define Selected Features"
   ]
  },
  {
   "cell_type": "markdown",
   "metadata": {},
   "source": [
    "Using the results from the Boruta-analysis - define different sets of columns to train on. <br>\n",
    "Since this is a demonstrator I tried to use different features to prove flexibility. <br>\n",
    "Which columns to use is dependent on the front-end application in which the model is going to be used. <br>"
   ]
  },
  {
   "cell_type": "code",
   "execution_count": null,
   "metadata": {},
   "outputs": [],
   "source": [
    "\n",
    "from sklearn.model_selection import train_test_split\n",
    "\n",
    "# Using the results from the Boruta-analysis - define different sets of columns to train on.\n",
    "# Since this is a demonstrator I tried to use different features to prove flexibility.\n",
    "# Which columns to use is dependent on the front-end application in which the model is going to be used.\n",
    "\n",
    "# all combined:\n",
    "#all_combined =  ['Buchungskreis', 'Lieferant', 'Position'] # Accuracy (in %): 96.62 +/- 2.62 --- \"Position\" is weird!!!\n",
    "all_combined =  ['Buchungskreis', 'Lieferant', 'Steuerkennzeichen']\n"
   ]
  },
  {
   "cell_type": "markdown",
   "metadata": {},
   "source": [
    "## Train on Selected Features"
   ]
  },
  {
   "cell_type": "code",
   "execution_count": null,
   "metadata": {},
   "outputs": [],
   "source": [
    "# chose one of the feature selections:\n",
    "final_seleced_features =  all_combined\n",
    "\n",
    "X_train = X_train[final_seleced_features]\n",
    "X_test = X_test[final_seleced_features]\n",
    "\n",
    "# automatic feature selection from Boruta selected_features:\n",
    "\"\"\" if selected_features and len(selected_features) > 3:\n",
    "    X_train = X_train[selected_features[:3]]\n",
    "    X_test = X_test[selected_features[:3]]\n",
    "    print(\"--------------------------------\")\n",
    "    print(f\"selected_features[:3]: {selected_features[:3]}\")\n",
    "    print(\"--------------------------------\")\n",
    "else:\n",
    "    X_train = X_train[selected_features]\n",
    "    X_test = X_test[selected_features]\n",
    "    print(\"--------------------------------\")\n",
    "    print(f\"selected_features: {selected_features}\") \n",
    "    print(\"--------------------------------\") \"\"\"\n",
    "\n",
    "\n",
    "print(\"--------------------------------\")\n",
    "print(f\"X_train.shape: {X_train.shape}\")\n",
    "print(f\"X_test.shape : {X_test.shape}\")\n",
    "print(\"--------------------------------\")\n",
    "print(f\"X_train.head(3):{X_train.head(3)}\")\n",
    "print(f\"X_test.head(3) : {X_test.head(3)}\")\n",
    "print(\"--------------------------------\")\n",
    "\n",
    "model = create_Model()\n",
    "model.fit(X_train, y_train)\n"
   ]
  },
  {
   "cell_type": "markdown",
   "metadata": {},
   "source": [
    "# Model Quality Assessment"
   ]
  },
  {
   "cell_type": "markdown",
   "metadata": {},
   "source": [
    "## Simple Run Accuracy"
   ]
  },
  {
   "cell_type": "code",
   "execution_count": null,
   "metadata": {},
   "outputs": [],
   "source": [
    "# make predictions for test data\n",
    "print(\"--------------------------------\")\n",
    "print(f\"We have {y_test.shape[0]} rows of test-data.\")\n",
    "print(\"--------------------------------\")\n",
    "\n",
    "y_pred = model.predict(X_test)\n",
    "\"\"\" \n",
    "print(\"--------------------------------\")\n",
    "print(y_pred[:10])\n",
    "print(\"--------------------------------\")\n",
    "#predictions = [round(value) for value in y_pred] \"\"\"\n",
    "\n",
    "# evaluate predictions\n",
    "from sklearn.metrics import accuracy_score\n",
    "\n",
    "accuracy = accuracy_score(y_test, y_pred)\n",
    "#accuracy = accuracy_score(y_test, predictions)\n",
    "print(\"--------------------------------\")\n",
    "print(\"Simple One-Run Accuracy: %.2f%%\" % (accuracy * 100.0))\n",
    "print(\"--------------------------------\")"
   ]
  },
  {
   "cell_type": "markdown",
   "metadata": {},
   "source": [
    "## Check Scikits classification_report:"
   ]
  },
  {
   "cell_type": "code",
   "execution_count": null,
   "metadata": {},
   "outputs": [],
   "source": [
    "from sklearn.metrics import classification_report\n",
    "\n",
    "# Evaluate the model with precision, recall, and F1-score\n",
    "print(\"\\nClassification Report:\\n\", classification_report(y_test, y_pred, target_names=target_label_encoder.classes_.astype(str)))\n",
    "print(\"--------------------------------\")"
   ]
  },
  {
   "cell_type": "markdown",
   "metadata": {},
   "source": [
    "## Accuracy with Cross-Validation"
   ]
  },
  {
   "cell_type": "code",
   "execution_count": null,
   "metadata": {},
   "outputs": [],
   "source": [
    "import warnings\n",
    "\n",
    "warnings.simplefilter('ignore', UserWarning)\n",
    "\n",
    "from sklearn.model_selection import cross_val_score, KFold\n",
    "\n",
    "X = df.drop(target, axis=1)\n",
    "y_trans = target_label_encoder.fit_transform(y).astype(int)\n",
    "print(\"----------- Check encoding ---------------------\")\n",
    "print(y_trans[:10])\n",
    "print(\"--------------------------------\")\n",
    "\n",
    "results = cross_val_score(model, X, y_trans, cv=5)\n",
    "print(\"--------------------------------\")\n",
    "print(f\"Accuracy (in %): {results.mean() * 100:.2f} +/- {results.std() * 100:.2f}\")\n",
    "print(\"--------------------------------\")"
   ]
  },
  {
   "cell_type": "markdown",
   "metadata": {},
   "source": [
    "## Confusion Matrices"
   ]
  },
  {
   "cell_type": "markdown",
   "metadata": {},
   "source": [
    "### Straight Confusion Matrix"
   ]
  },
  {
   "cell_type": "code",
   "execution_count": null,
   "metadata": {},
   "outputs": [],
   "source": [
    "from utils_bsak import plot_confusion_matrix\n",
    "\n",
    "y_pred = model.predict(X_test)\n",
    "\n",
    "plot_confusion_matrix(y_test=y_test, y_pred=y_pred, labels=target_label_encoder.classes_)"
   ]
  },
  {
   "cell_type": "markdown",
   "metadata": {},
   "source": [
    "### Top-k Confusion Matrix"
   ]
  },
  {
   "cell_type": "code",
   "execution_count": null,
   "metadata": {},
   "outputs": [],
   "source": [
    "from utils_bsak import plot_top_k_confusion_matrix\n",
    "\n",
    "k = 3\n",
    "y_pred_prob = model.predict_proba(X_test)\n",
    "plot_top_k_confusion_matrix(y_test=y_test, y_pred_prob=y_pred_prob, labels=target_label_encoder.classes_, top_k=k, show_off_top_k_info=False)"
   ]
  },
  {
   "cell_type": "markdown",
   "metadata": {},
   "source": [
    "# Export to ONNX"
   ]
  },
  {
   "cell_type": "code",
   "execution_count": null,
   "metadata": {},
   "outputs": [],
   "source": [
    "import xgboost as xgb\n",
    "from onnxmltools import convert_xgboost\n",
    "from onnxmltools.convert.common.data_types import FloatTensorType\n",
    "\n",
    "# rename the columns of X to make Onnx conversion possible:\n",
    "X_old_columns = { f\"f{i}\" : col for i, col in enumerate(X_train.columns)}\n",
    "X_train.columns = [f\"f{i}\" for i in range(X_train.shape[1])]\n",
    "\n",
    "# DMatrix (i.e. dense-matrix) erstellen und enable_categorical setzen\n",
    "dtrain = xgb.DMatrix(data=X_train, label=y_train, enable_categorical=True)\n",
    "dtest = xgb.DMatrix(data=X_test, label=y_test, enable_categorical=True)\n",
    "\n",
    "\n",
    "# Assuming you have a trained XGBClassifier model\n",
    "model = create_Model()\n",
    "model.fit(X_train, y_train)\n",
    "\n",
    "# Convert the model to ONNX format\n",
    "initial_type = [('float_input', FloatTensorType([None, X_train.shape[1]]))]\n",
    "onnx_model = convert_xgboost(model, initial_types=initial_type)\n",
    "\n",
    "# Save the ONNX model to a file in D:\\1000_DataScience_MachineLearning\\1000_ML_Projects\\1000_Github_ML_2\\projects_planned\\Psinova_Examples\\saktoBsik_private :\n",
    "\n",
    "onnx_model_name = \"model_\" + \"Sachkonto_stratified_All3\" + \".onnx\"\n",
    "\n",
    "with open(onnx_model_name, \"wb\") as f:\n",
    "    f.write(onnx_model.SerializeToString())\n",
    "\n",
    "print(\"------------------------------------------------------------------------\")\n",
    "print(f\"model name: {onnx_model_name}\")\n",
    "print(f\"Sachkonten Codierung für das Model : {target_label_encoder.classes_}\")\n",
    "print(\"------------------------------------------------------------------------\")\n",
    "\n"
   ]
  },
  {
   "cell_type": "code",
   "execution_count": null,
   "metadata": {},
   "outputs": [],
   "source": [
    "# Store data and LabelEncoder for later use:\n",
    "import joblib, onnxmltools, xgboost\n",
    "\n",
    "data_folder = \"data_preprocessed/\"\n",
    "file_joblib_dump = 'OnnxParams_Sachkonto_stratified_All3.pkl'\n",
    "\n",
    "onnx_parameters = {\n",
    "    \"onnx_model_name\" : onnx_model_name,\n",
    "    \"trained_features\" : final_seleced_features,\n",
    "    \"xgboost_version\" : xgboost.__version__,\n",
    "    \"onnxmltools_version\" : onnxmltools.__version__,\n",
    "}\n",
    "\n",
    "joblib.dump(onnx_parameters, data_folder + file_joblib_dump)"
   ]
  },
  {
   "cell_type": "code",
   "execution_count": null,
   "metadata": {},
   "outputs": [],
   "source": [
    "import xgboost\n",
    "print(xgboost.__version__)\n",
    "\n",
    "#Answer:\n",
    "# 1.4.2"
   ]
  },
  {
   "cell_type": "code",
   "execution_count": null,
   "metadata": {},
   "outputs": [],
   "source": [
    "import onnxmltools\n",
    "print(onnxmltools.__version__)\n",
    "\n",
    "# Answer:\n",
    "# 1.7.0"
   ]
  },
  {
   "cell_type": "markdown",
   "metadata": {},
   "source": [
    "Working combination of versions of xgboost and onnxmltools:\n",
    "\n",
    "xgboost : 1.4.2 <br>\n",
    "onnxmltools : 1.7.0"
   ]
  },
  {
   "cell_type": "markdown",
   "metadata": {},
   "source": [
    "# TO DO : \n",
    "+ explain Classification Report\n",
    "+ deal with imbalance"
   ]
  },
  {
   "cell_type": "markdown",
   "metadata": {},
   "source": [
    "#### Note: Strategies to Address Imbalance \n",
    "\n",
    "+ Cost-Sensitive Learning: Assign higher misclassification costs to the minority class, encouraging the model to consider it more seriously.\n",
    "+ Alternative Splitting Criteria: Use metrics like Hellinger distance (?) instead of traditional ones like information gain, as it better handles skewed distributions (why?).\n",
    "+ Sampling Techniques: Balance the dataset by oversampling the minority class or undersampling the majority class, or by using wrapper frameworks that combine sampling with the splitting metric.\n",
    "+ Adjusted Evaluation Metrics: Accuracy alone is misleading in imbalanced settings. Instead, prioritize metrics like precision, recall, and F1-score to assess the model’s performance on the minority class more accurately."
   ]
  }
 ],
 "metadata": {
  "kernelspec": {
   "display_name": "catboostEnv",
   "language": "python",
   "name": "python3"
  },
  "language_info": {
   "codemirror_mode": {
    "name": "ipython",
    "version": 3
   },
   "file_extension": ".py",
   "mimetype": "text/x-python",
   "name": "python",
   "nbconvert_exporter": "python",
   "pygments_lexer": "ipython3",
   "version": "3.10.16"
  }
 },
 "nbformat": 4,
 "nbformat_minor": 2
}
